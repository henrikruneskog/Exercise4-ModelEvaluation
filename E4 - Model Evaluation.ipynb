{
 "cells": [
  {
   "cell_type": "markdown",
   "id": "1dd05ccc",
   "metadata": {},
   "source": [
    "# Exercise 4 - Model Evaluation\n",
    "Idag ska vi se hur bra våra modeller egentligen är. Vi kommer att tackla ett klassificeringsproblem (titanic.csv) och ett regressionsproblem (housing.csv) och skapa mått på hur bra dessa modeller är."
   ]
  },
  {
   "cell_type": "markdown",
   "id": "2d376560",
   "metadata": {},
   "source": [
    "## Klassificeringsproblem - Titanic\n",
    "Note: Använd samma kod som i Exercise 2 för att generera tre modeller som predikterar vilka som kommer att överleva titanic.\n",
    "1. Ladda in, städa och dela upp träningssettet titanic.csv\n",
    "2. Skapa och träna fyra klassificeringsmodeller (Decision Tree, Random Forest, XGBoost, SVM).\n",
    "3. För varje modell, ta fram måtten:\n",
    "    - Accuracy\n",
    "    - Precision\n",
    "    - Recall\n",
    "    - F1, F2, F0.5\n",
    "4. Vilken modell presterar bäst? Skiljer sig modellens prestanda från Exercise 2 när vi endast undersökte modellens Accuracy?"
   ]
  },
  {
   "cell_type": "code",
   "execution_count": null,
   "id": "7b8d11eb",
   "metadata": {},
   "outputs": [],
   "source": [
    "import pandas as pd\n",
    "from sklearn.model_selection import train_test_split\n",
    "df = pd.read_csv('titanic.csv')"
   ]
  },
  {
   "cell_type": "markdown",
   "id": "26fb6c77",
   "metadata": {},
   "source": [
    "### Model 1: Decision Tree"
   ]
  },
  {
   "cell_type": "code",
   "execution_count": null,
   "id": "3887fe5a",
   "metadata": {},
   "outputs": [],
   "source": [
    "from sklearn import tree\n",
    "import matplotlib.pyplot as plt\n",
    "model = tree.DecisionTreeClassifier() # optimize! Can we do it better?"
   ]
  },
  {
   "cell_type": "markdown",
   "id": "ddb5eabd",
   "metadata": {},
   "source": [
    "### Model 2: Random Forest"
   ]
  },
  {
   "cell_type": "code",
   "execution_count": null,
   "id": "0a18f235",
   "metadata": {},
   "outputs": [],
   "source": [
    "from sklearn.ensemble import RandomForestClassifier\n",
    "model_forest = RandomForestClassifier() # optimize! Can we do it better?"
   ]
  },
  {
   "cell_type": "markdown",
   "id": "167ef0be",
   "metadata": {},
   "source": [
    "### Model 3: XGBoost"
   ]
  },
  {
   "cell_type": "code",
   "execution_count": null,
   "id": "283851d0",
   "metadata": {},
   "outputs": [],
   "source": [
    "import xgboost as xgb\n",
    "model_XGB = xgb.XGBClassifier() # optimize! Can we do it better?"
   ]
  },
  {
   "cell_type": "markdown",
   "id": "b41f5381",
   "metadata": {},
   "source": [
    "### Model 4: SVM"
   ]
  },
  {
   "cell_type": "code",
   "execution_count": null,
   "id": "1b4afcd2",
   "metadata": {},
   "outputs": [],
   "source": [
    "from sklearn.svm import SVC\n",
    "model_SVC = SVC() # optimize! Can we do it better?"
   ]
  },
  {
   "cell_type": "markdown",
   "id": "074da634",
   "metadata": {},
   "source": [
    "### Model Evaluation - Classification\n",
    "- Accuracy\n",
    "- Precision\n",
    "- Recall\n",
    "- F1, F2, F0.5"
   ]
  },
  {
   "cell_type": "code",
   "execution_count": null,
   "id": "789b8d37",
   "metadata": {},
   "outputs": [],
   "source": [
    "from sklearn.metrics import confusion_matrix\n",
    "from sklearn.metrics import precision_score, recall_score, f1_score, accuracy_score"
   ]
  },
  {
   "cell_type": "markdown",
   "id": "127e7ec1",
   "metadata": {},
   "source": [
    "## Regressionproblem - Huspriser\n",
    "1. Ladda in, städa och dela upp träningssettet housing.csv\n",
    "2. Skapa och träna fyra regressionsmodeller (Linear Regression, Random Forest Regressor, XGB Regressor, SVM).\n",
    "3. För varje modell, ta fram måtten:\n",
    "    - Mean Squared Error\n",
    "    - Root Mean Squared Error\n",
    "    - R2-score\n",
    "    - Mean Absolute Error\n",
    "4. Vilken modell presterar bäst?"
   ]
  },
  {
   "cell_type": "code",
   "execution_count": null,
   "id": "62bb0103",
   "metadata": {},
   "outputs": [],
   "source": [
    "import pandas as pd\n",
    "from sklearn.model_selection import train_test_split\n",
    "import os\n",
    "df = pd.read_csv('housing.csv')\n",
    "# Clean and fix the data\n",
    "# Clean and fix the data\n",
    "df.drop(columns={'Id'}, inplace=True)\n",
    "one_hot_columns = ['MSZoning', 'Street', 'Alley', 'LotShape', 'LandContour', 'Utilities', 'LotConfig','LandSlope','Neighborhood','Condition1','Condition2','BldgType','HouseStyle',\n",
    "                'RoofStyle', 'RoofMatl', 'Exterior1st','Exterior2nd','MasVnrType','ExterQual','ExterCond','Foundation','BsmtQual', 'BsmtCond','BsmtExposure','BsmtFinType1','BsmtFinType2',\n",
    "                 'Heating', 'HeatingQC','CentralAir','Electrical','KitchenQual','Functional','FireplaceQu','GarageType','GarageFinish','GarageQual','GarageCond','PavedDrive','PoolQC','Fence',\n",
    "                'MiscFeature','SaleType','SaleCondition', 'GarageYrBlt', 'MasVnrArea']\n",
    "df.drop(columns=one_hot_columns, inplace=True)\n",
    "df['LotFrontage'].fillna(0, inplace=True)\n",
    "df = (df - df.mean()) / df.std() # normalizing without any packages!\n",
    "target_col = ['SalePrice']\n",
    "feature_cols = [col for col in df.columns if col not in target_col]\n",
    "\n",
    "y = df[target_col]\n",
    "X = df[feature_cols]\n",
    "X_train, X_test, y_train, y_test = train_test_split(X, y, test_size=0.33, random_state=42)\n"
   ]
  },
  {
   "cell_type": "markdown",
   "id": "a8595018",
   "metadata": {},
   "source": [
    "### Model 1: Linear Regression"
   ]
  },
  {
   "cell_type": "code",
   "execution_count": null,
   "id": "ff51fcf6",
   "metadata": {},
   "outputs": [],
   "source": [
    "from sklearn.linear_model import LinearRegression\n",
    "model_LinearRegression = LinearRegression()"
   ]
  },
  {
   "cell_type": "markdown",
   "id": "91aeb829",
   "metadata": {},
   "source": [
    "### Model 2: Random Forest Regressor"
   ]
  },
  {
   "cell_type": "code",
   "execution_count": null,
   "id": "cfcab6cc",
   "metadata": {},
   "outputs": [],
   "source": [
    "from sklearn.ensemble import RandomForestRegressor\n",
    "model_RandomForestRegressor = RandomForestRegressor()"
   ]
  },
  {
   "cell_type": "markdown",
   "id": "e36cd657",
   "metadata": {},
   "source": [
    "### Model 3: XGB Regressor"
   ]
  },
  {
   "cell_type": "code",
   "execution_count": null,
   "id": "ab744da8",
   "metadata": {},
   "outputs": [],
   "source": [
    "from xgboost import XGBRegressor\n",
    "model_XGBRegressor = XGBRegressor()"
   ]
  },
  {
   "cell_type": "markdown",
   "id": "9d224d50",
   "metadata": {},
   "source": [
    "### Model Evaluation - Regression\n",
    "- Mean Squared Error\n",
    "- Root Mean Squared Error\n",
    "- R2-score\n",
    "- Mean Absolute Error"
   ]
  },
  {
   "cell_type": "code",
   "execution_count": null,
   "id": "53df9a16",
   "metadata": {},
   "outputs": [],
   "source": [
    "from sklearn.metrics import mean_squared_error, mean_absolute_error, r2_score"
   ]
  }
 ],
 "metadata": {
  "kernelspec": {
   "display_name": "Python 3 (ipykernel)",
   "language": "python",
   "name": "python3"
  },
  "language_info": {
   "codemirror_mode": {
    "name": "ipython",
    "version": 3
   },
   "file_extension": ".py",
   "mimetype": "text/x-python",
   "name": "python",
   "nbconvert_exporter": "python",
   "pygments_lexer": "ipython3",
   "version": "3.8.11"
  }
 },
 "nbformat": 4,
 "nbformat_minor": 5
}
