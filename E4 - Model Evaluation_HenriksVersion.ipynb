{
 "cells": [
  {
   "cell_type": "markdown",
   "id": "1dd05ccc",
   "metadata": {},
   "source": [
    "# Exercise 4 - Model Evaluation\n",
    "Idag ska vi se hur bra våra modeller egentligen är. Vi kommer att tackla ett klassificeringsproblem (titanic - decisiontree, random forest och XGBoost) och ett regressionsproblem (huspriser, Model 1, Model 2 och Model 3) och skapa mått på hur bra dessa modeller är. Vi ska även skapa baselines för att ha en referenspunkt på hur bra våra modeller är i förhållande till något annat än ML."
   ]
  },
  {
   "cell_type": "markdown",
   "id": "2d376560",
   "metadata": {},
   "source": [
    "## Klassificeringsproblem - Titanic\n",
    "Note: Använd samma kod som i Exercise 2 för att generera tre modeller som predikterar vilka som kommer att överleva titanic.\n",
    "1. Ladda in, städa och dela upp träningssettet titanic.csv\n",
    "2. Skapa och träna fyra klassificeringsmodeller (Decision Tree, Random Forest, XGBoost, SVM).\n",
    "3. För varje modell, ta fram måtten:\n",
    "    - Accuracy\n",
    "    - Precision\n",
    "    - Recall\n",
    "    - F1, F2, F0.5\n",
    "4. Vilken modell presterar bäst? Skiljer sig modellens prestanda från Exercise 2 när vi endast undersökte modellens Accuracy?"
   ]
  },
  {
   "cell_type": "code",
   "execution_count": 1,
   "id": "7b8d11eb",
   "metadata": {},
   "outputs": [],
   "source": [
    "import pandas as pd\n",
    "from sklearn.model_selection import train_test_split\n",
    "df = pd.read_csv('titanic.csv')\n",
    "\n",
    "def dictionary_function(df, col):\n",
    "    my_value_list = sorted(list(set([item[0] for item in list(set(list(df[col].values)))])))\n",
    "    my_ranking_list = list(range(len(my_value_list)))\n",
    "    my_dictionary = {}\n",
    "    for x,y in zip(my_value_list, my_ranking_list):\n",
    "        my_dictionary[x] = y\n",
    "    df.replace({col: my_dictionary}, inplace=True)\n",
    "    return df\n",
    "\n",
    "if 'Unnamed: 0' in df.columns:\n",
    "    df.drop(columns={'Unnamed: 0'}, inplace=True)\n",
    "df = df[df['Survived'].notna()]\n",
    "df.Age.fillna(round(df.Age.mean()), inplace=True)\n",
    "df.Embarked.fillna('Unknown', inplace=True)\n",
    "df.Cabin.fillna('U0', inplace=True)\n",
    "df.Embarked.replace({'Unknown': 'U'},inplace=True)\n",
    "df[['CabinSection', 'CabinNr', 'dummy']] = df[\"Cabin\"].str.split(\"(\\d+)\", n=1, expand=True)\n",
    "df.CabinSection = df.CabinSection.apply(lambda x: x[0])\n",
    "df['Sex'] = df.Sex.eq('male').mul(1)\n",
    "df.Survived = df.Survived.astype(int)\n",
    "df.Age = df.Age.astype(int)\n",
    "df.drop(columns={'dummy', 'Cabin', 'Ticket', 'Name'}, inplace=True)\n",
    "df.CabinNr.fillna(0, inplace=True)\n",
    "df.CabinNr = df.CabinNr.astype(int)\n",
    "for col in ['CabinSection', 'Embarked']:\n",
    "    df = dictionary_function(df, col)\n",
    "    df[col].astype(int)\n",
    "    \n",
    "target_col = ['Survived']\n",
    "feature_cols = [col for col in df.columns if col not in target_col]\n",
    "\n",
    "y = df[target_col]\n",
    "X = df[feature_cols]\n",
    "X_train, X_test, y_train, y_test = train_test_split(X, y, test_size=0.33, random_state=42)"
   ]
  },
  {
   "cell_type": "markdown",
   "id": "26fb6c77",
   "metadata": {},
   "source": [
    "### Model 1: Decision Tree"
   ]
  },
  {
   "cell_type": "code",
   "execution_count": 2,
   "id": "3887fe5a",
   "metadata": {},
   "outputs": [],
   "source": [
    "from sklearn import tree\n",
    "import matplotlib.pyplot as plt\n",
    "model = tree.DecisionTreeClassifier() # optimize! Can we do it better?\n",
    "model.fit(X_train, y_train)\n",
    "predictions_decision_tree = list(model.predict(X_test))"
   ]
  },
  {
   "cell_type": "markdown",
   "id": "ddb5eabd",
   "metadata": {},
   "source": [
    "### Model 2: Random Forest"
   ]
  },
  {
   "cell_type": "code",
   "execution_count": 3,
   "id": "0a18f235",
   "metadata": {},
   "outputs": [
    {
     "name": "stderr",
     "output_type": "stream",
     "text": [
      "/var/folders/t3/c9yl4b8s3fd5vzr9v1gp94ym0000gp/T/ipykernel_55901/336464240.py:3: DataConversionWarning: A column-vector y was passed when a 1d array was expected. Please change the shape of y to (n_samples,), for example using ravel().\n",
      "  model_forest.fit(X_train, y_train)\n"
     ]
    }
   ],
   "source": [
    "from sklearn.ensemble import RandomForestClassifier\n",
    "model_forest = RandomForestClassifier() # optimize! Can we do it better?\n",
    "model_forest.fit(X_train, y_train)\n",
    "predictions_random_forest = list(model_forest.predict(X_test))"
   ]
  },
  {
   "cell_type": "markdown",
   "id": "167ef0be",
   "metadata": {},
   "source": [
    "### Model 3: XGBoost"
   ]
  },
  {
   "cell_type": "code",
   "execution_count": 4,
   "id": "283851d0",
   "metadata": {},
   "outputs": [],
   "source": [
    "import xgboost as xgb\n",
    "model_XGB = xgb.XGBClassifier() # optimize! Can we do it better?\n",
    "model_XGB.fit(X_train, y_train)\n",
    "predictions_XGB = list(model_XGB.predict(X_test))"
   ]
  },
  {
   "cell_type": "markdown",
   "id": "b41f5381",
   "metadata": {},
   "source": [
    "### Model 4: SVM"
   ]
  },
  {
   "cell_type": "code",
   "execution_count": 5,
   "id": "1b4afcd2",
   "metadata": {},
   "outputs": [
    {
     "name": "stderr",
     "output_type": "stream",
     "text": [
      "/Users/HERUN/opt/anaconda3/lib/python3.8/site-packages/sklearn/utils/validation.py:1143: DataConversionWarning: A column-vector y was passed when a 1d array was expected. Please change the shape of y to (n_samples, ), for example using ravel().\n",
      "  y = column_or_1d(y, warn=True)\n"
     ]
    }
   ],
   "source": [
    "from sklearn.svm import SVC\n",
    "model_SVC = SVC() # optimize! Can we do it better?\n",
    "model_SVC.fit(X_train, y_train)\n",
    "predictions_SVC = list(model_SVC.predict(X_test))"
   ]
  },
  {
   "cell_type": "markdown",
   "id": "074da634",
   "metadata": {},
   "source": [
    "### Model Evaluation - Classification\n",
    "- Accuracy\n",
    "- Precision\n",
    "- Recall\n",
    "- F1, F2, F0.5"
   ]
  },
  {
   "cell_type": "code",
   "execution_count": 23,
   "id": "789b8d37",
   "metadata": {},
   "outputs": [
    {
     "name": "stdout",
     "output_type": "stream",
     "text": [
      "Decision Tree\n",
      "Accuracy: 0.776\n",
      "Precision: 0.733\n",
      "Recall: 0.708\n",
      "F1-score: 0.72\n",
      " \n",
      "Random Forest\n",
      "Accuracy: 0.807\n",
      "Precision: 0.812\n",
      "Recall: 0.683\n",
      "F1-score: 0.742\n",
      " \n",
      "XGB\n",
      "Accuracy: 0.8\n",
      "Precision: 0.77\n",
      "Recall: 0.725\n",
      "F1-score: 0.747\n",
      " \n",
      "SVC\n",
      "Accuracy: 0.647\n",
      "Precision: 0.75\n",
      "Recall: 0.2\n",
      "F1-score: 0.316\n",
      " \n"
     ]
    }
   ],
   "source": [
    "from sklearn.metrics import confusion_matrix\n",
    "from sklearn.metrics import precision_score, recall_score, f1_score, accuracy_score\n",
    "our_prediction_list = [predictions_decision_tree, predictions_random_forest, predictions_XGB, predictions_SVC]\n",
    "model_list = ['Decision Tree', 'Random Forest', 'XGB', 'SVC']\n",
    "utfall = y_test['Survived'].to_list()\n",
    "\n",
    "for preds, modl in zip(our_prediction_list, model_list):\n",
    "    precision = precision_score(utfall, preds, labels=['Died','Survived'])\n",
    "    recall = recall_score(utfall, preds, labels=['Died','Survived'])\n",
    "    accuracy = accuracy_score(utfall, preds)\n",
    "    f1 = f1_score(utfall, preds, labels=['Died','Survived'])\n",
    "    print(modl)\n",
    "    print(f'Accuracy: {round(accuracy,3)}')\n",
    "    print(f'Precision: {round(precision, 3)}')\n",
    "    print(f'Recall: {round(recall, 3)}')\n",
    "    print(f'F1-score: {round(f1, 3)}')\n",
    "    print(' ')"
   ]
  },
  {
   "cell_type": "markdown",
   "id": "127e7ec1",
   "metadata": {},
   "source": [
    "## Regressionproblem - Huspriser\n",
    "1. Ladda in, städa och dela upp träningssettet housing.csv\n",
    "2. Skapa och träna fyra regressionsmodeller (Linear Regression, Random Forest Regressor, XGB Regressor, SVM).\n",
    "3. För varje modell, ta fram måtten:\n",
    "    - Mean Squared Error\n",
    "    - Root Mean Squared Error\n",
    "    - R2-score\n",
    "    - Mean Absolute Error\n",
    "4. Vilken modell presterar bäst?"
   ]
  },
  {
   "cell_type": "code",
   "execution_count": 1,
   "id": "62bb0103",
   "metadata": {},
   "outputs": [],
   "source": [
    "import pandas as pd\n",
    "from sklearn.model_selection import train_test_split\n",
    "import os\n",
    "df = pd.read_csv('housing.csv')"
   ]
  },
  {
   "cell_type": "code",
   "execution_count": 2,
   "id": "5d02361b",
   "metadata": {
    "scrolled": true
   },
   "outputs": [],
   "source": [
    "# Clean and fix the data\n",
    "df.drop(columns={'Id'}, inplace=True)\n",
    "one_hot_columns = ['MSZoning', 'Street', 'Alley', 'LotShape', 'LandContour', 'Utilities', 'LotConfig','LandSlope','Neighborhood','Condition1','Condition2','BldgType','HouseStyle',\n",
    "                'RoofStyle', 'RoofMatl', 'Exterior1st','Exterior2nd','MasVnrType','ExterQual','ExterCond','Foundation','BsmtQual', 'BsmtCond','BsmtExposure','BsmtFinType1','BsmtFinType2',\n",
    "                 'Heating', 'HeatingQC','CentralAir','Electrical','KitchenQual','Functional','FireplaceQu','GarageType','GarageFinish','GarageQual','GarageCond','PavedDrive','PoolQC','Fence',\n",
    "                'MiscFeature','SaleType','SaleCondition', 'GarageYrBlt', 'MasVnrArea']\n",
    "df.drop(columns=one_hot_columns, inplace=True)\n",
    "df['LotFrontage'].fillna(0, inplace=True)\n",
    "df = (df - df.mean()) / df.std()\n",
    "target_col = ['SalePrice']\n",
    "feature_cols = [col for col in df.columns if col not in target_col]\n",
    "\n",
    "y = df[target_col]\n",
    "X = df[feature_cols]\n",
    "X_train, X_test, y_train, y_test = train_test_split(X, y, test_size=0.33, random_state=42)\n"
   ]
  },
  {
   "cell_type": "markdown",
   "id": "a8595018",
   "metadata": {},
   "source": [
    "### Model 1: Linear Regression"
   ]
  },
  {
   "cell_type": "code",
   "execution_count": 3,
   "id": "ff51fcf6",
   "metadata": {},
   "outputs": [],
   "source": [
    "from sklearn.linear_model import LinearRegression\n",
    "model_LinearRegression = LinearRegression()\n",
    "model_LinearRegression.fit(X_train, y_train)\n",
    "predictions_LinearRegression = list(model_LinearRegression.predict(X_test))\n"
   ]
  },
  {
   "cell_type": "markdown",
   "id": "91aeb829",
   "metadata": {},
   "source": [
    "### Model 2: Random Forest Regressor"
   ]
  },
  {
   "cell_type": "code",
   "execution_count": 4,
   "id": "cfcab6cc",
   "metadata": {},
   "outputs": [
    {
     "name": "stderr",
     "output_type": "stream",
     "text": [
      "/var/folders/t3/c9yl4b8s3fd5vzr9v1gp94ym0000gp/T/ipykernel_39675/1329826322.py:3: DataConversionWarning: A column-vector y was passed when a 1d array was expected. Please change the shape of y to (n_samples,), for example using ravel().\n",
      "  model_RandomForestRegressor.fit(X_train, y_train)\n"
     ]
    }
   ],
   "source": [
    "from sklearn.ensemble import RandomForestRegressor\n",
    "model_RandomForestRegressor = RandomForestRegressor()\n",
    "model_RandomForestRegressor.fit(X_train, y_train)\n",
    "predictions_RandomForestRegressor = list(model_RandomForestRegressor.predict(X_test))"
   ]
  },
  {
   "cell_type": "markdown",
   "id": "e36cd657",
   "metadata": {},
   "source": [
    "### Model 3: XGB Regressor"
   ]
  },
  {
   "cell_type": "code",
   "execution_count": 5,
   "id": "ab744da8",
   "metadata": {},
   "outputs": [],
   "source": [
    "from xgboost import XGBRegressor\n",
    "model_XGBRegressor = XGBRegressor()\n",
    "model_XGBRegressor.fit(X_train, y_train)\n",
    "predictions_XGBRegressor = list(model_XGBRegressor.predict(X_test))"
   ]
  },
  {
   "cell_type": "markdown",
   "id": "9d224d50",
   "metadata": {},
   "source": [
    "### Model Evaluation - Regression\n",
    "- Mean Squared Error\n",
    "- Root Mean Squared Error\n",
    "- R2-score\n",
    "- Mean Absolute Error"
   ]
  },
  {
   "cell_type": "code",
   "execution_count": 6,
   "id": "53df9a16",
   "metadata": {},
   "outputs": [
    {
     "name": "stdout",
     "output_type": "stream",
     "text": [
      "Linear Regression\n",
      "Mean Squared Error: 0.507\n",
      "Root Mean Squared Error: 0.257\n",
      "Mean Absolute Error: 0.307\n",
      "R2-score: 0.779\n",
      " \n",
      "Random Forest Regressor\n",
      "Mean Squared Error: 0.391\n",
      "Root Mean Squared Error: 0.153\n",
      "Mean Absolute Error: 0.229\n",
      "R2-score: 0.868\n",
      " \n",
      "XGB Regressor\n",
      "Mean Squared Error: 0.405\n",
      "Root Mean Squared Error: 0.164\n",
      "Mean Absolute Error: 0.233\n",
      "R2-score: 0.859\n",
      " \n"
     ]
    }
   ],
   "source": [
    "from sklearn.metrics import mean_squared_error, mean_absolute_error, r2_score\n",
    "\n",
    "our_prediction_list = [predictions_LinearRegression, predictions_RandomForestRegressor, predictions_XGBRegressor]\n",
    "model_list = ['Linear Regression', 'Random Forest Regressor', 'XGB Regressor']\n",
    "utfall = y_test['SalePrice'].to_list()\n",
    "\n",
    "for preds, modl in zip(our_prediction_list, model_list):\n",
    "    MSE = mean_squared_error(utfall, preds, squared=False)\n",
    "    RMSE = mean_squared_error(utfall, preds, squared=True)\n",
    "    MAE = mean_absolute_error(utfall, preds)\n",
    "    R2 = r2_score(utfall, preds)\n",
    "    \n",
    "    print(modl)\n",
    "    print(f'Mean Squared Error: {round(MSE,3)}')\n",
    "    print(f'Root Mean Squared Error: {round(RMSE, 3)}')\n",
    "    print(f'Mean Absolute Error: {round(MAE, 3)}')\n",
    "    print(f'R2-score: {round(R2, 3)}')\n",
    "    print(' ')"
   ]
  },
  {
   "cell_type": "code",
   "execution_count": null,
   "id": "b2991842",
   "metadata": {},
   "outputs": [],
   "source": []
  }
 ],
 "metadata": {
  "kernelspec": {
   "display_name": "Python 3 (ipykernel)",
   "language": "python",
   "name": "python3"
  },
  "language_info": {
   "codemirror_mode": {
    "name": "ipython",
    "version": 3
   },
   "file_extension": ".py",
   "mimetype": "text/x-python",
   "name": "python",
   "nbconvert_exporter": "python",
   "pygments_lexer": "ipython3",
   "version": "3.8.11"
  }
 },
 "nbformat": 4,
 "nbformat_minor": 5
}
